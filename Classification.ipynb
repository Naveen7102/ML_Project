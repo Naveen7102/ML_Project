{
 "cells": [
  {
   "cell_type": "code",
   "execution_count": 1,
   "id": "3d964623",
   "metadata": {},
   "outputs": [],
   "source": [
    "import numpy as np \n",
    "import pandas as pd\n",
    "import matplotlib.pyplot as plt\n",
    "from sklearn.model_selection import train_test_split\n",
    "import sklearn.preprocessing as preprocessing \n",
    "from sklearn.preprocessing import StandardScaler\n",
    "from sklearn.preprocessing import LabelEncoder\n",
    "import sklearn.metrics as metrics \n",
    "import sklearn.svm as svm \n",
    "import sklearn.naive_bayes as naive_bayes\n",
    "from sklearn.linear_model import LogisticRegression \n",
    "from sklearn.decomposition import PCA\n",
    "from sklearn.naive_bayes import GaussianNB, BernoulliNB\n",
    "import seaborn as sns \n"
   ]
  },
  {
   "cell_type": "code",
   "execution_count": 43,
   "id": "62c0047d",
   "metadata": {},
   "outputs": [],
   "source": [
    "main_df = pd.read_csv(\"train_data.csv\")\n",
    "test_df = pd.read_csv(\"test_data.csv\")\n",
    "\n",
    "main_df = main_df.append(test_df)"
   ]
  },
  {
   "cell_type": "markdown",
   "id": "602dd8af",
   "metadata": {},
   "source": [
    "# 1. PreProcessing"
   ]
  },
  {
   "cell_type": "code",
   "execution_count": 44,
   "id": "4d30a9b1",
   "metadata": {},
   "outputs": [
    {
     "data": {
      "text/html": [
       "<div>\n",
       "<style scoped>\n",
       "    .dataframe tbody tr th:only-of-type {\n",
       "        vertical-align: middle;\n",
       "    }\n",
       "\n",
       "    .dataframe tbody tr th {\n",
       "        vertical-align: top;\n",
       "    }\n",
       "\n",
       "    .dataframe thead th {\n",
       "        text-align: right;\n",
       "    }\n",
       "</style>\n",
       "<table border=\"1\" class=\"dataframe\">\n",
       "  <thead>\n",
       "    <tr style=\"text-align: right;\">\n",
       "      <th></th>\n",
       "      <th>url</th>\n",
       "      <th>webpageDescription</th>\n",
       "      <th>alchemy_category</th>\n",
       "      <th>alchemy_category_score</th>\n",
       "      <th>avgLinkWordLength</th>\n",
       "      <th>AvglinkWithOneCommonWord</th>\n",
       "      <th>AvglinkWithTwoCommonWord</th>\n",
       "      <th>AvglinkWithThreeCommonWord</th>\n",
       "      <th>AvglinkWithFourCommonWord</th>\n",
       "      <th>redundancyMeasure</th>\n",
       "      <th>...</th>\n",
       "      <th>lengthyDomain</th>\n",
       "      <th>hyperlinkToAllWordsRatio</th>\n",
       "      <th>isFrontPageNews</th>\n",
       "      <th>alphanumCharCount</th>\n",
       "      <th>linksCount</th>\n",
       "      <th>wordCount</th>\n",
       "      <th>parametrizedLinkRatio</th>\n",
       "      <th>spellingErrorsRatio</th>\n",
       "      <th>label</th>\n",
       "      <th>id</th>\n",
       "    </tr>\n",
       "  </thead>\n",
       "  <tbody>\n",
       "    <tr>\n",
       "      <th>0</th>\n",
       "      <td>http://www.polyvore.com/cgi/home?id=1389651</td>\n",
       "      <td>{\"title\":\"Join Polyvore and follow the latest ...</td>\n",
       "      <td>?</td>\n",
       "      <td>?</td>\n",
       "      <td>1.916667</td>\n",
       "      <td>0.047619</td>\n",
       "      <td>0.007937</td>\n",
       "      <td>0.000000</td>\n",
       "      <td>0.000000</td>\n",
       "      <td>0.803797</td>\n",
       "      <td>...</td>\n",
       "      <td>0</td>\n",
       "      <td>34</td>\n",
       "      <td>0</td>\n",
       "      <td>682</td>\n",
       "      <td>126</td>\n",
       "      <td>1</td>\n",
       "      <td>0.531746</td>\n",
       "      <td>0.142857</td>\n",
       "      <td>1.0</td>\n",
       "      <td>3711</td>\n",
       "    </tr>\n",
       "    <tr>\n",
       "      <th>1</th>\n",
       "      <td>http://www.youtube.com/watch?v=ippMPPu6gh4</td>\n",
       "      <td>{\"body\":\"Speed Air Man--David Belle david bell...</td>\n",
       "      <td>?</td>\n",
       "      <td>?</td>\n",
       "      <td>1.257576</td>\n",
       "      <td>0.141026</td>\n",
       "      <td>0.000000</td>\n",
       "      <td>0.000000</td>\n",
       "      <td>0.000000</td>\n",
       "      <td>1.142857</td>\n",
       "      <td>...</td>\n",
       "      <td>0</td>\n",
       "      <td>12</td>\n",
       "      <td>0</td>\n",
       "      <td>3008</td>\n",
       "      <td>78</td>\n",
       "      <td>1</td>\n",
       "      <td>0.628205</td>\n",
       "      <td>0.000000</td>\n",
       "      <td>1.0</td>\n",
       "      <td>7222</td>\n",
       "    </tr>\n",
       "    <tr>\n",
       "      <th>2</th>\n",
       "      <td>http://www.musingsofahousewife.com/2011/03/tri...</td>\n",
       "      <td>{\"title\":\"Chicken Gruyere Recipe \",\"body\":\"Chi...</td>\n",
       "      <td>science_technology</td>\n",
       "      <td>0.386685</td>\n",
       "      <td>2.024000</td>\n",
       "      <td>0.630350</td>\n",
       "      <td>0.284047</td>\n",
       "      <td>0.233463</td>\n",
       "      <td>0.202335</td>\n",
       "      <td>0.443409</td>\n",
       "      <td>...</td>\n",
       "      <td>1</td>\n",
       "      <td>17</td>\n",
       "      <td>0</td>\n",
       "      <td>11008</td>\n",
       "      <td>257</td>\n",
       "      <td>5</td>\n",
       "      <td>0.466926</td>\n",
       "      <td>0.062500</td>\n",
       "      <td>1.0</td>\n",
       "      <td>3964</td>\n",
       "    </tr>\n",
       "    <tr>\n",
       "      <th>3</th>\n",
       "      <td>http://www.thelittleteochew.com/2011/07/ikan-b...</td>\n",
       "      <td>{\"title\":\"Ikan Bilis With Tempeh Groundnuts \",...</td>\n",
       "      <td>recreation</td>\n",
       "      <td>0.475039</td>\n",
       "      <td>1.665254</td>\n",
       "      <td>0.419580</td>\n",
       "      <td>0.199301</td>\n",
       "      <td>0.097902</td>\n",
       "      <td>0.066434</td>\n",
       "      <td>0.472649</td>\n",
       "      <td>...</td>\n",
       "      <td>1</td>\n",
       "      <td>28</td>\n",
       "      <td>0</td>\n",
       "      <td>4585</td>\n",
       "      <td>286</td>\n",
       "      <td>5</td>\n",
       "      <td>0.244755</td>\n",
       "      <td>0.085868</td>\n",
       "      <td>1.0</td>\n",
       "      <td>3697</td>\n",
       "    </tr>\n",
       "    <tr>\n",
       "      <th>4</th>\n",
       "      <td>http://recipes.wuzzle.org/index.php/72</td>\n",
       "      <td>{\"url\":\"recipes wuzzle org index php 72\",\"titl...</td>\n",
       "      <td>computer_internet</td>\n",
       "      <td>0.535009</td>\n",
       "      <td>0.181818</td>\n",
       "      <td>0.036364</td>\n",
       "      <td>0.000000</td>\n",
       "      <td>0.000000</td>\n",
       "      <td>0.000000</td>\n",
       "      <td>0.292614</td>\n",
       "      <td>...</td>\n",
       "      <td>0</td>\n",
       "      <td>3</td>\n",
       "      <td>0</td>\n",
       "      <td>1745</td>\n",
       "      <td>55</td>\n",
       "      <td>1</td>\n",
       "      <td>0.072727</td>\n",
       "      <td>0.115044</td>\n",
       "      <td>1.0</td>\n",
       "      <td>4321</td>\n",
       "    </tr>\n",
       "  </tbody>\n",
       "</table>\n",
       "<p>5 rows × 27 columns</p>\n",
       "</div>"
      ],
      "text/plain": [
       "                                                 url  \\\n",
       "0        http://www.polyvore.com/cgi/home?id=1389651   \n",
       "1         http://www.youtube.com/watch?v=ippMPPu6gh4   \n",
       "2  http://www.musingsofahousewife.com/2011/03/tri...   \n",
       "3  http://www.thelittleteochew.com/2011/07/ikan-b...   \n",
       "4             http://recipes.wuzzle.org/index.php/72   \n",
       "\n",
       "                                  webpageDescription    alchemy_category  \\\n",
       "0  {\"title\":\"Join Polyvore and follow the latest ...                   ?   \n",
       "1  {\"body\":\"Speed Air Man--David Belle david bell...                   ?   \n",
       "2  {\"title\":\"Chicken Gruyere Recipe \",\"body\":\"Chi...  science_technology   \n",
       "3  {\"title\":\"Ikan Bilis With Tempeh Groundnuts \",...          recreation   \n",
       "4  {\"url\":\"recipes wuzzle org index php 72\",\"titl...   computer_internet   \n",
       "\n",
       "  alchemy_category_score  avgLinkWordLength  AvglinkWithOneCommonWord  \\\n",
       "0                      ?           1.916667                  0.047619   \n",
       "1                      ?           1.257576                  0.141026   \n",
       "2               0.386685           2.024000                  0.630350   \n",
       "3               0.475039           1.665254                  0.419580   \n",
       "4               0.535009           0.181818                  0.036364   \n",
       "\n",
       "   AvglinkWithTwoCommonWord  AvglinkWithThreeCommonWord  \\\n",
       "0                  0.007937                    0.000000   \n",
       "1                  0.000000                    0.000000   \n",
       "2                  0.284047                    0.233463   \n",
       "3                  0.199301                    0.097902   \n",
       "4                  0.000000                    0.000000   \n",
       "\n",
       "   AvglinkWithFourCommonWord  redundancyMeasure  ...  lengthyDomain  \\\n",
       "0                   0.000000           0.803797  ...              0   \n",
       "1                   0.000000           1.142857  ...              0   \n",
       "2                   0.202335           0.443409  ...              1   \n",
       "3                   0.066434           0.472649  ...              1   \n",
       "4                   0.000000           0.292614  ...              0   \n",
       "\n",
       "   hyperlinkToAllWordsRatio  isFrontPageNews  alphanumCharCount  linksCount  \\\n",
       "0                        34                0                682         126   \n",
       "1                        12                0               3008          78   \n",
       "2                        17                0              11008         257   \n",
       "3                        28                0               4585         286   \n",
       "4                         3                0               1745          55   \n",
       "\n",
       "   wordCount parametrizedLinkRatio  spellingErrorsRatio  label    id  \n",
       "0          1              0.531746             0.142857    1.0  3711  \n",
       "1          1              0.628205             0.000000    1.0  7222  \n",
       "2          5              0.466926             0.062500    1.0  3964  \n",
       "3          5              0.244755             0.085868    1.0  3697  \n",
       "4          1              0.072727             0.115044    1.0  4321  \n",
       "\n",
       "[5 rows x 27 columns]"
      ]
     },
     "execution_count": 44,
     "metadata": {},
     "output_type": "execute_result"
    }
   ],
   "source": [
    "main_df.head()"
   ]
  },
  {
   "cell_type": "markdown",
   "id": "4af62caf",
   "metadata": {},
   "source": [
    "## 1.1 Checking for NULL and \"?\" values"
   ]
  },
  {
   "cell_type": "code",
   "execution_count": 45,
   "id": "231fc10a",
   "metadata": {},
   "outputs": [
    {
     "data": {
      "text/plain": [
       "url                              0\n",
       "webpageDescription               0\n",
       "alchemy_category                 0\n",
       "alchemy_category_score           0\n",
       "avgLinkWordLength                0\n",
       "AvglinkWithOneCommonWord         0\n",
       "AvglinkWithTwoCommonWord         0\n",
       "AvglinkWithThreeCommonWord       0\n",
       "AvglinkWithFourCommonWord        0\n",
       "redundancyMeasure                0\n",
       "embedRatio                       0\n",
       "framebased                       0\n",
       "frameTagRatio                    0\n",
       "domainLink                       0\n",
       "tagRatio                         0\n",
       "imageTagRatio                    0\n",
       "isNews                           0\n",
       "lengthyDomain                    0\n",
       "hyperlinkToAllWordsRatio         0\n",
       "isFrontPageNews                  0\n",
       "alphanumCharCount                0\n",
       "linksCount                       0\n",
       "wordCount                        0\n",
       "parametrizedLinkRatio            0\n",
       "spellingErrorsRatio              0\n",
       "label                         1479\n",
       "id                               0\n",
       "dtype: int64"
      ]
     },
     "execution_count": 45,
     "metadata": {},
     "output_type": "execute_result"
    }
   ],
   "source": [
    "main_df.isna().sum()"
   ]
  },
  {
   "cell_type": "markdown",
   "id": "469b67b7",
   "metadata": {},
   "source": [
    "No Null Values exist"
   ]
  },
  {
   "cell_type": "code",
   "execution_count": 46,
   "id": "b4206989",
   "metadata": {},
   "outputs": [
    {
     "data": {
      "text/plain": [
       "url                              0\n",
       "webpageDescription               0\n",
       "alchemy_category              2342\n",
       "alchemy_category_score        2342\n",
       "avgLinkWordLength                0\n",
       "AvglinkWithOneCommonWord         0\n",
       "AvglinkWithTwoCommonWord         0\n",
       "AvglinkWithThreeCommonWord       0\n",
       "AvglinkWithFourCommonWord        0\n",
       "redundancyMeasure                0\n",
       "embedRatio                       0\n",
       "framebased                       0\n",
       "frameTagRatio                    0\n",
       "domainLink                       0\n",
       "tagRatio                         0\n",
       "imageTagRatio                    0\n",
       "isNews                        2843\n",
       "lengthyDomain                    0\n",
       "hyperlinkToAllWordsRatio         0\n",
       "isFrontPageNews               1248\n",
       "alphanumCharCount                0\n",
       "linksCount                       0\n",
       "wordCount                        0\n",
       "parametrizedLinkRatio            0\n",
       "spellingErrorsRatio              0\n",
       "label                            0\n",
       "id                               0\n",
       "dtype: int64"
      ]
     },
     "execution_count": 46,
     "metadata": {},
     "output_type": "execute_result"
    }
   ],
   "source": [
    "(main_df == '?').sum()"
   ]
  },
  {
   "cell_type": "code",
   "execution_count": 47,
   "id": "935d2817",
   "metadata": {},
   "outputs": [
    {
     "data": {
      "text/plain": [
       "2843"
      ]
     },
     "execution_count": 47,
     "metadata": {},
     "output_type": "execute_result"
    }
   ],
   "source": [
    "(main_df[\"isNews\"] == '?').sum()"
   ]
  },
  {
   "cell_type": "code",
   "execution_count": 48,
   "id": "5ec2c172",
   "metadata": {},
   "outputs": [
    {
     "data": {
      "text/plain": [
       "1    4552\n",
       "?    2843\n",
       "Name: isNews, dtype: int64"
      ]
     },
     "execution_count": 48,
     "metadata": {},
     "output_type": "execute_result"
    }
   ],
   "source": [
    "main_df[\"isNews\"].value_counts()"
   ]
  },
  {
   "cell_type": "markdown",
   "id": "a0e46b98",
   "metadata": {},
   "source": [
    "Assuming the other 2843 rows are not news making the '?' values to 0"
   ]
  },
  {
   "cell_type": "code",
   "execution_count": 49,
   "id": "d9a9f0f4",
   "metadata": {},
   "outputs": [],
   "source": [
    "main_df[\"isNews\"].replace(\"?\", 0, inplace = True)"
   ]
  },
  {
   "cell_type": "code",
   "execution_count": 50,
   "id": "0e4379f7",
   "metadata": {},
   "outputs": [
    {
     "data": {
      "text/plain": [
       "1    4552\n",
       "0    2843\n",
       "Name: isNews, dtype: int64"
      ]
     },
     "execution_count": 50,
     "metadata": {},
     "output_type": "execute_result"
    }
   ],
   "source": [
    "main_df[\"isNews\"].value_counts()"
   ]
  },
  {
   "cell_type": "code",
   "execution_count": 51,
   "id": "c15a4d4e",
   "metadata": {},
   "outputs": [
    {
     "data": {
      "text/plain": [
       "1248"
      ]
     },
     "execution_count": 51,
     "metadata": {},
     "output_type": "execute_result"
    }
   ],
   "source": [
    "(main_df[\"isFrontPageNews\"] == '?').sum()"
   ]
  },
  {
   "cell_type": "code",
   "execution_count": 52,
   "id": "b4278703",
   "metadata": {},
   "outputs": [
    {
     "data": {
      "text/plain": [
       "0    5853\n",
       "?    1248\n",
       "1     294\n",
       "Name: isFrontPageNews, dtype: int64"
      ]
     },
     "execution_count": 52,
     "metadata": {},
     "output_type": "execute_result"
    }
   ],
   "source": [
    "main_df[\"isFrontPageNews\"].value_counts()"
   ]
  },
  {
   "cell_type": "markdown",
   "id": "db08c114",
   "metadata": {},
   "source": [
    "Assuming they are not front page news changing the \"?\" to 0"
   ]
  },
  {
   "cell_type": "code",
   "execution_count": 53,
   "id": "735cd90c",
   "metadata": {},
   "outputs": [],
   "source": [
    "main_df[\"isFrontPageNews\"].replace(\"?\", '0', inplace = True)\n",
    "main_df[\"isFrontPageNews\"] = pd.to_numeric(main_df[\"isFrontPageNews\"])"
   ]
  },
  {
   "cell_type": "code",
   "execution_count": 54,
   "id": "6cfca3c5",
   "metadata": {},
   "outputs": [
    {
     "data": {
      "text/plain": [
       "0    7101\n",
       "1     294\n",
       "Name: isFrontPageNews, dtype: int64"
      ]
     },
     "execution_count": 54,
     "metadata": {},
     "output_type": "execute_result"
    }
   ],
   "source": [
    "main_df[\"isFrontPageNews\"].value_counts()"
   ]
  },
  {
   "cell_type": "code",
   "execution_count": 55,
   "id": "b4fe6ef2",
   "metadata": {},
   "outputs": [
    {
     "data": {
      "text/plain": [
       "2342"
      ]
     },
     "execution_count": 55,
     "metadata": {},
     "output_type": "execute_result"
    }
   ],
   "source": [
    "(main_df[\"alchemy_category_score\"] == '?').sum()"
   ]
  },
  {
   "cell_type": "code",
   "execution_count": 61,
   "id": "94e1d753",
   "metadata": {},
   "outputs": [
    {
     "data": {
      "text/plain": [
       "?            2342\n",
       "0.85           82\n",
       "0.0784091      40\n",
       "0.849999       12\n",
       "0.535009       10\n",
       "             ... \n",
       "0.733288        1\n",
       "0.703947        1\n",
       "0.93767         1\n",
       "0.760163        1\n",
       "0.715035        1\n",
       "Name: alchemy_category_score, Length: 4806, dtype: int64"
      ]
     },
     "execution_count": 61,
     "metadata": {},
     "output_type": "execute_result"
    }
   ],
   "source": [
    "main_df[\"alchemy_category_score\"].value_counts()"
   ]
  },
  {
   "cell_type": "code",
   "execution_count": 65,
   "id": "bcc78343",
   "metadata": {},
   "outputs": [
    {
     "data": {
      "text/plain": [
       "count    5053.000000\n",
       "mean        0.603334\n",
       "std         0.212864\n",
       "min         0.070833\n",
       "25%         0.452424\n",
       "50%         0.625616\n",
       "75%         0.780851\n",
       "max         0.999426\n",
       "Name: alchemy_category_score, dtype: float64"
      ]
     },
     "execution_count": 65,
     "metadata": {},
     "output_type": "execute_result"
    }
   ],
   "source": [
    "main_df[\"alchemy_category_score\"] = main_df[\"alchemy_category_score\"].replace('?', np.nan)\n",
    "main_df[\"alchemy_category_score\"] = pd.to_numeric(main_df[\"alchemy_category_score\"])\n",
    "main_df[\"alchemy_category_score\"].describe()"
   ]
  },
  {
   "cell_type": "code",
   "execution_count": 67,
   "id": "4f3baa87",
   "metadata": {},
   "outputs": [
    {
     "data": {
      "text/plain": [
       "2342"
      ]
     },
     "execution_count": 67,
     "metadata": {},
     "output_type": "execute_result"
    }
   ],
   "source": [
    "main_df[\"alchemy_category_score\"].isna().sum()"
   ]
  },
  {
   "cell_type": "markdown",
   "id": "56fbd459",
   "metadata": {},
   "source": [
    "Mean and Median are almost same. So, replacing nan values with Median"
   ]
  },
  {
   "cell_type": "code",
   "execution_count": 69,
   "id": "185718af",
   "metadata": {},
   "outputs": [
    {
     "data": {
      "text/plain": [
       "count    7395.000000\n",
       "mean        0.610391\n",
       "std         0.176257\n",
       "min         0.070833\n",
       "25%         0.538758\n",
       "50%         0.625616\n",
       "75%         0.708279\n",
       "max         0.999426\n",
       "Name: alchemy_category_score, dtype: float64"
      ]
     },
     "execution_count": 69,
     "metadata": {},
     "output_type": "execute_result"
    }
   ],
   "source": [
    "main_df[\"alchemy_category_score\"].fillna(main_df[\"alchemy_category_score\"].median(), inplace=True)\n",
    "main_df[\"alchemy_category_score\"].describe()"
   ]
  },
  {
   "cell_type": "code",
   "execution_count": 70,
   "id": "b76b53f1",
   "metadata": {},
   "outputs": [
    {
     "data": {
      "text/plain": [
       "count     7395\n",
       "unique      14\n",
       "top          ?\n",
       "freq      2342\n",
       "Name: alchemy_category, dtype: object"
      ]
     },
     "execution_count": 70,
     "metadata": {},
     "output_type": "execute_result"
    }
   ],
   "source": [
    "main_df[\"alchemy_category\"].describe()"
   ]
  },
  {
   "cell_type": "code",
   "execution_count": 71,
   "id": "faee5dbc",
   "metadata": {},
   "outputs": [
    {
     "data": {
      "text/plain": [
       "?                     2342\n",
       "recreation            1229\n",
       "arts_entertainment     941\n",
       "business               880\n",
       "health                 506\n",
       "sports                 380\n",
       "culture_politics       343\n",
       "computer_internet      296\n",
       "science_technology     289\n",
       "gaming                  76\n",
       "religion                72\n",
       "law_crime               31\n",
       "unknown                  6\n",
       "weather                  4\n",
       "Name: alchemy_category, dtype: int64"
      ]
     },
     "execution_count": 71,
     "metadata": {},
     "output_type": "execute_result"
    }
   ],
   "source": [
    "main_df[\"alchemy_category\"].value_counts()"
   ]
  },
  {
   "cell_type": "markdown",
   "id": "8772703d",
   "metadata": {},
   "source": [
    "Changing '?' to a new unknown"
   ]
  },
  {
   "cell_type": "code",
   "execution_count": 72,
   "id": "62246f09",
   "metadata": {},
   "outputs": [],
   "source": [
    "main_df[\"alchemy_category\"].replace(\"?\", \"unknown\", inplace = True)"
   ]
  },
  {
   "cell_type": "code",
   "execution_count": 73,
   "id": "60503105",
   "metadata": {},
   "outputs": [
    {
     "data": {
      "text/plain": [
       "url                           0\n",
       "webpageDescription            0\n",
       "alchemy_category              0\n",
       "alchemy_category_score        0\n",
       "avgLinkWordLength             0\n",
       "AvglinkWithOneCommonWord      0\n",
       "AvglinkWithTwoCommonWord      0\n",
       "AvglinkWithThreeCommonWord    0\n",
       "AvglinkWithFourCommonWord     0\n",
       "redundancyMeasure             0\n",
       "embedRatio                    0\n",
       "framebased                    0\n",
       "frameTagRatio                 0\n",
       "domainLink                    0\n",
       "tagRatio                      0\n",
       "imageTagRatio                 0\n",
       "isNews                        0\n",
       "lengthyDomain                 0\n",
       "hyperlinkToAllWordsRatio      0\n",
       "isFrontPageNews               0\n",
       "alphanumCharCount             0\n",
       "linksCount                    0\n",
       "wordCount                     0\n",
       "parametrizedLinkRatio         0\n",
       "spellingErrorsRatio           0\n",
       "label                         0\n",
       "id                            0\n",
       "dtype: int64"
      ]
     },
     "execution_count": 73,
     "metadata": {},
     "output_type": "execute_result"
    }
   ],
   "source": [
    "(main_df == '?').sum()"
   ]
  },
  {
   "cell_type": "markdown",
   "id": "702e1423",
   "metadata": {},
   "source": [
    "----------------- all '?' and null values are removed ---------------"
   ]
  },
  {
   "cell_type": "code",
   "execution_count": null,
   "id": "b37bd9c5",
   "metadata": {},
   "outputs": [],
   "source": []
  }
 ],
 "metadata": {
  "kernelspec": {
   "display_name": "Python 3 (ipykernel)",
   "language": "python",
   "name": "python3"
  },
  "language_info": {
   "codemirror_mode": {
    "name": "ipython",
    "version": 3
   },
   "file_extension": ".py",
   "mimetype": "text/x-python",
   "name": "python",
   "nbconvert_exporter": "python",
   "pygments_lexer": "ipython3",
   "version": "3.9.7"
  }
 },
 "nbformat": 4,
 "nbformat_minor": 5
}
